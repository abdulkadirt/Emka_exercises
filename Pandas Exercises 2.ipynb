{
 "cells": [
  {
   "cell_type": "code",
   "execution_count": 1,
   "id": "35765fc5",
   "metadata": {},
   "outputs": [],
   "source": [
    "import pandas as pd\n",
    "import numpy as np\n",
    "import seaborn as sns"
   ]
  },
  {
   "cell_type": "markdown",
   "id": "ca416a10",
   "metadata": {},
   "source": [
    "1) df_tips içindeki Payment ID column'unun son 3 rakamını çekin. Bu işlemi 3 farklı yolla da yapmaya çalışın."
   ]
  },
  {
   "cell_type": "code",
   "execution_count": 2,
   "id": "cc1eda41",
   "metadata": {},
   "outputs": [
    {
     "data": {
      "text/html": [
       "<div>\n",
       "<style scoped>\n",
       "    .dataframe tbody tr th:only-of-type {\n",
       "        vertical-align: middle;\n",
       "    }\n",
       "\n",
       "    .dataframe tbody tr th {\n",
       "        vertical-align: top;\n",
       "    }\n",
       "\n",
       "    .dataframe thead th {\n",
       "        text-align: right;\n",
       "    }\n",
       "</style>\n",
       "<table border=\"1\" class=\"dataframe\">\n",
       "  <thead>\n",
       "    <tr style=\"text-align: right;\">\n",
       "      <th></th>\n",
       "      <th>total_bill</th>\n",
       "      <th>tip</th>\n",
       "      <th>sex</th>\n",
       "      <th>smoker</th>\n",
       "      <th>day</th>\n",
       "      <th>time</th>\n",
       "      <th>size</th>\n",
       "      <th>price_per_person</th>\n",
       "      <th>Payer Name</th>\n",
       "      <th>CC Number</th>\n",
       "      <th>Payment ID</th>\n",
       "    </tr>\n",
       "  </thead>\n",
       "  <tbody>\n",
       "    <tr>\n",
       "      <th>0</th>\n",
       "      <td>16.99</td>\n",
       "      <td>1.01</td>\n",
       "      <td>Female</td>\n",
       "      <td>No</td>\n",
       "      <td>Sun</td>\n",
       "      <td>Dinner</td>\n",
       "      <td>2</td>\n",
       "      <td>8.49</td>\n",
       "      <td>Christy Cunningham</td>\n",
       "      <td>3560325168603410</td>\n",
       "      <td>Sun2959</td>\n",
       "    </tr>\n",
       "    <tr>\n",
       "      <th>1</th>\n",
       "      <td>10.34</td>\n",
       "      <td>1.66</td>\n",
       "      <td>Male</td>\n",
       "      <td>No</td>\n",
       "      <td>Sun</td>\n",
       "      <td>Dinner</td>\n",
       "      <td>3</td>\n",
       "      <td>3.45</td>\n",
       "      <td>Douglas Tucker</td>\n",
       "      <td>4478071379779230</td>\n",
       "      <td>Sun4608</td>\n",
       "    </tr>\n",
       "    <tr>\n",
       "      <th>2</th>\n",
       "      <td>21.01</td>\n",
       "      <td>3.50</td>\n",
       "      <td>Male</td>\n",
       "      <td>No</td>\n",
       "      <td>Sun</td>\n",
       "      <td>Dinner</td>\n",
       "      <td>3</td>\n",
       "      <td>7.00</td>\n",
       "      <td>Travis Walters</td>\n",
       "      <td>6011812112971322</td>\n",
       "      <td>Sun4458</td>\n",
       "    </tr>\n",
       "  </tbody>\n",
       "</table>\n",
       "</div>"
      ],
      "text/plain": [
       "   total_bill   tip     sex smoker  day    time  size  price_per_person  \\\n",
       "0       16.99  1.01  Female     No  Sun  Dinner     2              8.49   \n",
       "1       10.34  1.66    Male     No  Sun  Dinner     3              3.45   \n",
       "2       21.01  3.50    Male     No  Sun  Dinner     3              7.00   \n",
       "\n",
       "           Payer Name         CC Number Payment ID  \n",
       "0  Christy Cunningham  3560325168603410    Sun2959  \n",
       "1      Douglas Tucker  4478071379779230    Sun4608  \n",
       "2      Travis Walters  6011812112971322    Sun4458  "
      ]
     },
     "execution_count": 2,
     "metadata": {},
     "output_type": "execute_result"
    }
   ],
   "source": [
    "df_tips = pd.read_csv(\"tips.csv\")  ; df_tips.head(3)\n"
   ]
  },
  {
   "cell_type": "code",
   "execution_count": 3,
   "id": "0fb21d11",
   "metadata": {
    "collapsed": true
   },
   "outputs": [
    {
     "data": {
      "text/plain": [
       "0      959\n",
       "1      608\n",
       "2      458\n",
       "3      260\n",
       "4      251\n",
       "      ... \n",
       "239    657\n",
       "240    766\n",
       "241    880\n",
       "242    t17\n",
       "243    672\n",
       "Name: Payment ID, Length: 244, dtype: object"
      ]
     },
     "execution_count": 3,
     "metadata": {},
     "output_type": "execute_result"
    }
   ],
   "source": [
    "df_tips[\"Payment ID\"].apply(lambda x : x[-3:]) # apply ile"
   ]
  },
  {
   "cell_type": "code",
   "execution_count": 4,
   "id": "359cbe21",
   "metadata": {
    "collapsed": true
   },
   "outputs": [
    {
     "data": {
      "text/plain": [
       "0      959\n",
       "1      608\n",
       "2      458\n",
       "3      260\n",
       "4      251\n",
       "      ... \n",
       "239    657\n",
       "240    766\n",
       "241    880\n",
       "242    t17\n",
       "243    672\n",
       "Name: Payment ID, Length: 244, dtype: object"
      ]
     },
     "execution_count": 4,
     "metadata": {},
     "output_type": "execute_result"
    }
   ],
   "source": [
    "df_tips[\"Payment ID\"].str[-3:] #str method ile , vektorize yöntem"
   ]
  },
  {
   "cell_type": "code",
   "execution_count": 5,
   "id": "86e99e07",
   "metadata": {
    "collapsed": true
   },
   "outputs": [
    {
     "data": {
      "text/plain": [
       "0      959\n",
       "1      608\n",
       "2      458\n",
       "3      260\n",
       "4      251\n",
       "      ... \n",
       "239    657\n",
       "240    766\n",
       "241    880\n",
       "242    t17\n",
       "243    672\n",
       "Name: Payment ID, Length: 244, dtype: object"
      ]
     },
     "execution_count": 5,
     "metadata": {},
     "output_type": "execute_result"
    }
   ],
   "source": [
    "df_tips[\"Payment ID\"].map(lambda x : x[-3:]) # map ile"
   ]
  },
  {
   "cell_type": "markdown",
   "id": "c806a55a",
   "metadata": {},
   "source": [
    "2) df_tips içindeki Payer Name sütununda isim ve soy isim bilgileri bulunuyor. O sütundan sadece isim bilgileri çekin ve 'JustName' adında yeni bir column oluşturun. (Bu biraz zorlayıcı olabilir, Önce kendiniz yapmaya çalışın fakat yapamazsanız ChatGPT'ye soruyu düzgünce sorarak cevabını kod olarak alabilirsiniz, ardından döndürülen kodu anlamaya çalışmanız yeterlidir.)"
   ]
  },
  {
   "cell_type": "code",
   "execution_count": 6,
   "id": "d65e45d2",
   "metadata": {},
   "outputs": [],
   "source": [
    "df_tips[\"JustName\"] = df_tips[\"Payer Name\"].str.split().str[0]"
   ]
  },
  {
   "cell_type": "code",
   "execution_count": 7,
   "id": "a9e3c894",
   "metadata": {
    "collapsed": true
   },
   "outputs": [
    {
     "data": {
      "text/plain": [
       "0        Christy\n",
       "1        Douglas\n",
       "2         Travis\n",
       "3      Nathaniel\n",
       "4          Tonya\n",
       "         ...    \n",
       "239      Michael\n",
       "240       Monica\n",
       "241        Keith\n",
       "242       Dennis\n",
       "243     Michelle\n",
       "Name: Payer Name, Length: 244, dtype: object"
      ]
     },
     "execution_count": 7,
     "metadata": {},
     "output_type": "execute_result"
    }
   ],
   "source": [
    "df_tips[\"Payer Name\"].apply(lambda x : x.split()[0]) # apply series ve dataframe ler ile çalışabilir daha esnektir."
   ]
  },
  {
   "cell_type": "code",
   "execution_count": 8,
   "id": "0bc47eb1",
   "metadata": {
    "collapsed": true
   },
   "outputs": [
    {
     "data": {
      "text/plain": [
       "0        Christy\n",
       "1        Douglas\n",
       "2         Travis\n",
       "3      Nathaniel\n",
       "4          Tonya\n",
       "         ...    \n",
       "239      Michael\n",
       "240       Monica\n",
       "241        Keith\n",
       "242       Dennis\n",
       "243     Michelle\n",
       "Name: Payer Name, Length: 244, dtype: object"
      ]
     },
     "execution_count": 8,
     "metadata": {},
     "output_type": "execute_result"
    }
   ],
   "source": [
    "df_tips[\"Payer Name\"].map(lambda x : x.split()[0]) # map sadece series ile çalışır"
   ]
  },
  {
   "cell_type": "markdown",
   "id": "7186f534",
   "metadata": {},
   "source": [
    "3) 2.Soruda yeni oluşturduğunuz 'JustName' sütunundaki verilerin her birinden kaç tane olduğuna uygun methodu kullanarak bakın."
   ]
  },
  {
   "cell_type": "code",
   "execution_count": 9,
   "id": "0d7793e0",
   "metadata": {
    "collapsed": true
   },
   "outputs": [
    {
     "data": {
      "text/plain": [
       "JustName\n",
       "Jason          9\n",
       "Michael        7\n",
       "James          6\n",
       "David          6\n",
       "Christopher    5\n",
       "              ..\n",
       "Shawna         1\n",
       "Louis          1\n",
       "Chris          1\n",
       "Mark           1\n",
       "Michelle       1\n",
       "Name: count, Length: 153, dtype: int64"
      ]
     },
     "execution_count": 9,
     "metadata": {},
     "output_type": "execute_result"
    }
   ],
   "source": [
    "df_tips[\"JustName\"].value_counts()"
   ]
  },
  {
   "cell_type": "code",
   "execution_count": 10,
   "id": "ab86b3bb",
   "metadata": {
    "collapsed": true
   },
   "outputs": [
    {
     "data": {
      "text/plain": [
       "JustName\n",
       "Jason          9\n",
       "Michael        7\n",
       "James          6\n",
       "David          6\n",
       "Christopher    5\n",
       "              ..\n",
       "Heather        1\n",
       "Grant          1\n",
       "Gordon         1\n",
       "Glenn          1\n",
       "Kelly          1\n",
       "Length: 153, dtype: int64"
      ]
     },
     "execution_count": 10,
     "metadata": {},
     "output_type": "execute_result"
    }
   ],
   "source": [
    "df_tips.groupby(\"JustName\").size().sort_values(ascending= False)"
   ]
  },
  {
   "cell_type": "markdown",
   "id": "c4df4aec",
   "metadata": {},
   "source": [
    "4) 3.Soruda gördüğünüz gibi JustName sütununda 'Jason' isminden 9 tane, 'Michael' isminden 7 tane , 'James' isminden 6 tane bulunuyor. Peki bunların hepsi gerçekten farklı kişiler mi ? Hemen 'Payer Name' sütunundaki verilerin adetlerini de saydırtarak bir kıyaslama yapın. 'JustName' sütununu kullanmanın faydasız ve yanıltıcı olabileceğini görün ardından oluşturduğumuz 'JustName' sütununu kalıcı olarak drop edin. (Oluşturmanız için bir pratikti bu sütun sadece :D)"
   ]
  },
  {
   "cell_type": "code",
   "execution_count": 11,
   "id": "26959599",
   "metadata": {},
   "outputs": [
    {
     "data": {
      "text/html": [
       "<div>\n",
       "<style scoped>\n",
       "    .dataframe tbody tr th:only-of-type {\n",
       "        vertical-align: middle;\n",
       "    }\n",
       "\n",
       "    .dataframe tbody tr th {\n",
       "        vertical-align: top;\n",
       "    }\n",
       "\n",
       "    .dataframe thead th {\n",
       "        text-align: right;\n",
       "    }\n",
       "</style>\n",
       "<table border=\"1\" class=\"dataframe\">\n",
       "  <thead>\n",
       "    <tr style=\"text-align: right;\">\n",
       "      <th></th>\n",
       "      <th>total_bill</th>\n",
       "      <th>tip</th>\n",
       "      <th>sex</th>\n",
       "      <th>smoker</th>\n",
       "      <th>day</th>\n",
       "      <th>time</th>\n",
       "      <th>size</th>\n",
       "      <th>price_per_person</th>\n",
       "      <th>Payer Name</th>\n",
       "      <th>CC Number</th>\n",
       "      <th>Payment ID</th>\n",
       "      <th>JustName</th>\n",
       "    </tr>\n",
       "  </thead>\n",
       "  <tbody>\n",
       "    <tr>\n",
       "      <th>0</th>\n",
       "      <td>16.99</td>\n",
       "      <td>1.01</td>\n",
       "      <td>Female</td>\n",
       "      <td>No</td>\n",
       "      <td>Sun</td>\n",
       "      <td>Dinner</td>\n",
       "      <td>2</td>\n",
       "      <td>8.49</td>\n",
       "      <td>Christy Cunningham</td>\n",
       "      <td>3560325168603410</td>\n",
       "      <td>Sun2959</td>\n",
       "      <td>Christy</td>\n",
       "    </tr>\n",
       "    <tr>\n",
       "      <th>1</th>\n",
       "      <td>10.34</td>\n",
       "      <td>1.66</td>\n",
       "      <td>Male</td>\n",
       "      <td>No</td>\n",
       "      <td>Sun</td>\n",
       "      <td>Dinner</td>\n",
       "      <td>3</td>\n",
       "      <td>3.45</td>\n",
       "      <td>Douglas Tucker</td>\n",
       "      <td>4478071379779230</td>\n",
       "      <td>Sun4608</td>\n",
       "      <td>Douglas</td>\n",
       "    </tr>\n",
       "    <tr>\n",
       "      <th>2</th>\n",
       "      <td>21.01</td>\n",
       "      <td>3.50</td>\n",
       "      <td>Male</td>\n",
       "      <td>No</td>\n",
       "      <td>Sun</td>\n",
       "      <td>Dinner</td>\n",
       "      <td>3</td>\n",
       "      <td>7.00</td>\n",
       "      <td>Travis Walters</td>\n",
       "      <td>6011812112971322</td>\n",
       "      <td>Sun4458</td>\n",
       "      <td>Travis</td>\n",
       "    </tr>\n",
       "    <tr>\n",
       "      <th>3</th>\n",
       "      <td>23.68</td>\n",
       "      <td>3.31</td>\n",
       "      <td>Male</td>\n",
       "      <td>No</td>\n",
       "      <td>Sun</td>\n",
       "      <td>Dinner</td>\n",
       "      <td>2</td>\n",
       "      <td>11.84</td>\n",
       "      <td>Nathaniel Harris</td>\n",
       "      <td>4676137647685994</td>\n",
       "      <td>Sun5260</td>\n",
       "      <td>Nathaniel</td>\n",
       "    </tr>\n",
       "    <tr>\n",
       "      <th>4</th>\n",
       "      <td>24.59</td>\n",
       "      <td>3.61</td>\n",
       "      <td>Female</td>\n",
       "      <td>No</td>\n",
       "      <td>Sun</td>\n",
       "      <td>Dinner</td>\n",
       "      <td>4</td>\n",
       "      <td>6.15</td>\n",
       "      <td>Tonya Carter</td>\n",
       "      <td>4832732618637221</td>\n",
       "      <td>Sun2251</td>\n",
       "      <td>Tonya</td>\n",
       "    </tr>\n",
       "  </tbody>\n",
       "</table>\n",
       "</div>"
      ],
      "text/plain": [
       "   total_bill   tip     sex smoker  day    time  size  price_per_person  \\\n",
       "0       16.99  1.01  Female     No  Sun  Dinner     2              8.49   \n",
       "1       10.34  1.66    Male     No  Sun  Dinner     3              3.45   \n",
       "2       21.01  3.50    Male     No  Sun  Dinner     3              7.00   \n",
       "3       23.68  3.31    Male     No  Sun  Dinner     2             11.84   \n",
       "4       24.59  3.61  Female     No  Sun  Dinner     4              6.15   \n",
       "\n",
       "           Payer Name         CC Number Payment ID   JustName  \n",
       "0  Christy Cunningham  3560325168603410    Sun2959    Christy  \n",
       "1      Douglas Tucker  4478071379779230    Sun4608    Douglas  \n",
       "2      Travis Walters  6011812112971322    Sun4458     Travis  \n",
       "3    Nathaniel Harris  4676137647685994    Sun5260  Nathaniel  \n",
       "4        Tonya Carter  4832732618637221    Sun2251      Tonya  "
      ]
     },
     "execution_count": 11,
     "metadata": {},
     "output_type": "execute_result"
    }
   ],
   "source": [
    "df_tips[\"Payer Name\"].value_counts().sort_values(ascending= False)\n",
    "# df_tips.drop(columns=[\"JustName\"],axis = 1,inplace=True)\n",
    "df_tips.head()"
   ]
  },
  {
   "cell_type": "markdown",
   "id": "e1c62dec",
   "metadata": {},
   "source": [
    "5) Erkeklerin ve kadınların davranış patternlerini ayrı ayrı inceleyip yorumda bulunabilmek için 'df_male' ve 'df_female' adında 2 dataframe oluşturun. Birinde sadece 157 erkek verisi, diğerinde sadece 87 kadın verisi bulunsun."
   ]
  },
  {
   "cell_type": "code",
   "execution_count": 20,
   "id": "519b6ecd",
   "metadata": {},
   "outputs": [],
   "source": [
    "df_male = df_tips.query(\"sex == 'Male' \")\n",
    "df_female = df_tips[df_tips[\"sex\"] == \"Female\"]"
   ]
  },
  {
   "cell_type": "code",
   "execution_count": null,
   "id": "bca75b3c",
   "metadata": {},
   "outputs": [],
   "source": []
  },
  {
   "cell_type": "markdown",
   "id": "02c73bd8",
   "metadata": {},
   "source": [
    "6) Ardından bu 'df_male' ile 'df_female' 'in ödedikleri bahşişler toplamını bulup karşılaştırın"
   ]
  },
  {
   "cell_type": "code",
   "execution_count": 34,
   "id": "6dcf0586",
   "metadata": {
    "scrolled": true
   },
   "outputs": [
    {
     "name": "stdout",
     "output_type": "stream",
     "text": [
      "Erkek müşterilerin verdiği bahşiş miktarının toplamı : 485.07\n",
      "Erkek müşterilerin verdiği bahşiş miktarının toplamı : 246.51\n",
      "Erkeklerin verdiği bahşiş ile kadınların verdiği bahşişin oranı : 1.9677497870268956\n"
     ]
    }
   ],
   "source": [
    "print(f\"Erkek müşterilerin verdiği bahşiş miktarının toplamı : {df_male.tip.sum()}\")\n",
    "print(f\"Erkek müşterilerin verdiği bahşiş miktarının toplamı : {round(df_female.tip.sum() , 2)}\")\n",
    "print(f\"Erkeklerin verdiği bahşiş ile kadınların verdiği bahşişin oranı : {df_male.tip.sum()/df_female.tip.sum()}\")"
   ]
  },
  {
   "cell_type": "markdown",
   "id": "9e5d1ca6",
   "metadata": {},
   "source": [
    "7) 6.Soruda erkeklerin ve kadınların ödedikleri bahşişler toplamına bakıldığında Erkeklerin kadınlara kıyasla toplamda daha çok bahşiş ödediğini görüyoruz. Fakat biz biliyoruz ki bizim verimizde 157 Erkek, 87 kadın verisi vardı. Dolayısıyla Erkek sayısı daha fazla olduğu için toplam ödeyecekleri bahşiş miktarlarında da daha fazla çıkması oldukça normal bir durum. Bu yüzden daha mantıklı bir çıkarım için bu sefer df_male ile df_female'in bahşiş ORTALAMALARIN'a bakıp kıyaslayın, aralarında anlamlı ve ciddi bir fark var mı ?"
   ]
  },
  {
   "cell_type": "code",
   "execution_count": 35,
   "id": "f0c7ab85",
   "metadata": {},
   "outputs": [
    {
     "name": "stdout",
     "output_type": "stream",
     "text": [
      "Erkek müşterilerin verdiği bahşiş miktarının ortalaması  : 3.0896178343949043\n",
      "Erkek müşterilerin verdiği bahşiş miktarının ortalaması : 2.8334482758620685\n"
     ]
    }
   ],
   "source": [
    "print(f\"Erkek müşterilerin verdiği bahşiş miktarının ortalaması  : {df_male.tip.mean()}\")\n",
    "print(f\"Erkek müşterilerin verdiği bahşiş miktarının ortalaması : {df_female.tip.mean()}\")"
   ]
  },
  {
   "cell_type": "markdown",
   "id": "af103e18",
   "metadata": {},
   "source": [
    "8) Oluşturmuş olduğunuz df_male ile çalışarak elimizdeki verideki erkeklerin yüzde kaçının sigara içtiğini bulun. Aynı şekilde elimizdeki kadınların yüzde kaçının sigara içtiğini de bulun. Aralarında anlamlı bir fark mı yorumlayın."
   ]
  },
  {
   "cell_type": "code",
   "execution_count": 46,
   "id": "ae682a3c",
   "metadata": {},
   "outputs": [
    {
     "name": "stdout",
     "output_type": "stream",
     "text": [
      "Erkeklerin yüzde 38.22'i sigara içiyor.\n"
     ]
    }
   ],
   "source": [
    "smoking_males = df_male[df_male[\"smoker\"] == \"Yes\"].shape[0]\n",
    "total_males = df_male.shape[0]\n",
    "percentage_smoking_males = (smoking_males / total_males) * 100\n",
    "print(f\"Erkeklerin yüzde {percentage_smoking_males:.2f}'i sigara içiyor.\") # round yerine tercih edebilirsin."
   ]
  },
  {
   "cell_type": "markdown",
   "id": "e1753b78",
   "metadata": {},
   "source": [
    "9) Erkeklerin zaman olarak dinnerda mı yoksa lunch'da mı daha fazla yemek yediğini yüzdesel olarak bulun. Aynı işlemi kadınlar için de yapın. Yüzdesel olarak erkeklerin ve kadınların yemek yeme vakitleri arasında anlamlı bir fark var mı yok mu yorumlayın."
   ]
  },
  {
   "cell_type": "code",
   "execution_count": 63,
   "id": "727bf32e",
   "metadata": {},
   "outputs": [
    {
     "name": "stdout",
     "output_type": "stream",
     "text": [
      "124 erkek Dinner terch etmiş yani yüzde 78.98 kadarı\n",
      "33 erkek Lunch terch etmiş yani yüzde 21.02 kadarı\n",
      "52 kadın Dinner terch etmiş yani yüzde 59.77 kadarı\n",
      "35 kadın Lunch terch etmiş yani yüzde 40.23 kadarı\n"
     ]
    }
   ],
   "source": [
    "dinner_males = (df_male[\"time\"] == \"Dinner\").sum()\n",
    "print(f\"{dinner_males} erkek Dinner terch etmiş yani yüzde {(dinner_males/total_males)*100:.2f} kadarı\")\n",
    "\n",
    "lunch_males = len(df_male.query(\"time == 'Lunch'\"))\n",
    "print(f\"{lunch_males} erkek Lunch terch etmiş yani yüzde {(lunch_males/total_males)*100:.2f} kadarı\")\n",
    "\n",
    "total_females = df_female.shape[0]\n",
    "dinner_females = df_female.groupby(\"time\").size().loc[\"Dinner\"]\n",
    "print(f\"{dinner_females} kadın Dinner terch etmiş yani yüzde {(dinner_females/total_females)*100:.2f} kadarı\")\n",
    "\n",
    "lunch_females = (df_female[\"time\"] == \"Lunch\").sum()\n",
    "print(f\"{lunch_females} kadın Lunch terch etmiş yani yüzde {(lunch_females/total_females)*100:.2f} kadarı\")"
   ]
  },
  {
   "cell_type": "code",
   "execution_count": null,
   "id": "5bb84861",
   "metadata": {},
   "outputs": [],
   "source": [
    "# farklı eleman sayma yöntemleri denedim . en çok query yöntemi hoşuma gitti tabii bir de shape[0] güzel.\n",
    "#groupby çok tercih edilmez heralde ama basit olduğundan denemiş olduk."
   ]
  },
  {
   "cell_type": "markdown",
   "id": "fb71bdc2",
   "metadata": {},
   "source": [
    "10) CC Number sütununu kalıcı olarak drop edin. Ardından df'in içindeki sütunların birbirleriyle olan ilişkilerini inceleyin ve çıkan sonuçlar hakkında yorumlarınızı belirtin."
   ]
  },
  {
   "cell_type": "code",
   "execution_count": 65,
   "id": "8b2c69fb",
   "metadata": {},
   "outputs": [],
   "source": [
    "df_tips.drop(columns = \"CC Number\" , axis = 1, inplace = True)"
   ]
  },
  {
   "cell_type": "code",
   "execution_count": 67,
   "id": "151e0f6c",
   "metadata": {},
   "outputs": [
    {
     "data": {
      "text/html": [
       "<div>\n",
       "<style scoped>\n",
       "    .dataframe tbody tr th:only-of-type {\n",
       "        vertical-align: middle;\n",
       "    }\n",
       "\n",
       "    .dataframe tbody tr th {\n",
       "        vertical-align: top;\n",
       "    }\n",
       "\n",
       "    .dataframe thead th {\n",
       "        text-align: right;\n",
       "    }\n",
       "</style>\n",
       "<table border=\"1\" class=\"dataframe\">\n",
       "  <thead>\n",
       "    <tr style=\"text-align: right;\">\n",
       "      <th></th>\n",
       "      <th>total_bill</th>\n",
       "      <th>tip</th>\n",
       "      <th>size</th>\n",
       "      <th>price_per_person</th>\n",
       "    </tr>\n",
       "  </thead>\n",
       "  <tbody>\n",
       "    <tr>\n",
       "      <th>total_bill</th>\n",
       "      <td>1.000000</td>\n",
       "      <td>0.675734</td>\n",
       "      <td>0.598315</td>\n",
       "      <td>0.647554</td>\n",
       "    </tr>\n",
       "    <tr>\n",
       "      <th>tip</th>\n",
       "      <td>0.675734</td>\n",
       "      <td>1.000000</td>\n",
       "      <td>0.489299</td>\n",
       "      <td>0.347405</td>\n",
       "    </tr>\n",
       "    <tr>\n",
       "      <th>size</th>\n",
       "      <td>0.598315</td>\n",
       "      <td>0.489299</td>\n",
       "      <td>1.000000</td>\n",
       "      <td>-0.175359</td>\n",
       "    </tr>\n",
       "    <tr>\n",
       "      <th>price_per_person</th>\n",
       "      <td>0.647554</td>\n",
       "      <td>0.347405</td>\n",
       "      <td>-0.175359</td>\n",
       "      <td>1.000000</td>\n",
       "    </tr>\n",
       "  </tbody>\n",
       "</table>\n",
       "</div>"
      ],
      "text/plain": [
       "                  total_bill       tip      size  price_per_person\n",
       "total_bill          1.000000  0.675734  0.598315          0.647554\n",
       "tip                 0.675734  1.000000  0.489299          0.347405\n",
       "size                0.598315  0.489299  1.000000         -0.175359\n",
       "price_per_person    0.647554  0.347405 -0.175359          1.000000"
      ]
     },
     "execution_count": 67,
     "metadata": {},
     "output_type": "execute_result"
    }
   ],
   "source": [
    "df_tips.corr(numeric_only=True)"
   ]
  },
  {
   "cell_type": "code",
   "execution_count": null,
   "id": "a7d905c0",
   "metadata": {},
   "outputs": [],
   "source": []
  },
  {
   "cell_type": "code",
   "execution_count": 75,
   "id": "f4f90412",
   "metadata": {},
   "outputs": [
    {
     "data": {
      "text/plain": [
       "<Axes: >"
      ]
     },
     "execution_count": 75,
     "metadata": {},
     "output_type": "execute_result"
    },
    {
     "data": {
      "image/png": "[encoded data removed]",
      "text/plain": [
       "<Figure size 640x480 with 2 Axes>"
      ]
     },
     "metadata": {},
     "output_type": "display_data"
    }
   ],
   "source": [
    "sns.heatmap(df_tips.corr(numeric_only=True) ,annot = True ,)"
   ]
  },
  {
   "cell_type": "code",
   "execution_count": null,
   "id": "94c68c11",
   "metadata": {},
   "outputs": [],
   "source": []
  }
 ],
 "metadata": {
  "kernelspec": {
   "display_name": "Python 3 (ipykernel)",
   "language": "python",
   "name": "python3"
  },
  "language_info": {
   "codemirror_mode": {
    "name": "ipython",
    "version": 3
   },
   "file_extension": ".py",
   "mimetype": "text/x-python",
   "name": "python",
   "nbconvert_exporter": "python",
   "pygments_lexer": "ipython3",
   "version": "3.11.5"
  }
 },
 "nbformat": 4,
 "nbformat_minor": 5
}
